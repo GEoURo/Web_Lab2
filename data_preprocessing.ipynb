{
 "cells": [
  {
   "cell_type": "code",
   "execution_count": null,
   "metadata": {},
   "outputs": [],
   "source": [
    "import os\n",
    "import io\n",
    "import jsonlines\n",
    "import numpy as np\n",
    "from BiLSTM_CRF import *"
   ]
  },
  {
   "cell_type": "code",
   "execution_count": null,
   "metadata": {},
   "outputs": [],
   "source": [
    "train_file_path = './subtask1_training_part1.json'\n",
    "test_file_path = './test_data.json'\n",
    "with io.open(train_file_path, 'r', encoding='utf-8-sig') as json_file:\n",
    "    raw_train_data = list(jsonlines.Reader(json_file))"
   ]
  },
  {
   "cell_type": "code",
   "execution_count": null,
   "metadata": {},
   "outputs": [],
   "source": [
    "START_TAG = \"<START>\"\n",
    "STOP_TAG = \"<STOP>\"\n",
    "EMBEDDING_DIM = 10\n",
    "HIDDEN_DIM = 4\n",
    "torch.manual_seed(1)"
   ]
  },
  {
   "cell_type": "code",
   "execution_count": null,
   "metadata": {},
   "outputs": [],
   "source": [
    "def select_label_type_from_text(text, text_label, label_type):\n",
    "    if len(text) != len(text_label):\n",
    "        print(\"The text length does not match the label length!\")\n",
    "        return\n",
    "\n",
    "    for i in range(len(text_label)):\n",
    "        if text_label[i].endswith(bytes(str(label_type), encoding='utf-8')):\n",
    "            string = str(text_label[i], encoding='utf-8')\n",
    "            text_label[i] = bytes(string[0] + '-LOC', encoding='utf-8')\n",
    "        else:\n",
    "            text_label[i] = b\"O\"\n",
    "    return text, text_label"
   ]
  },
  {
   "cell_type": "code",
   "execution_count": null,
   "metadata": {},
   "outputs": [],
   "source": [
    "label_dict = {'疾病和诊断': 'disease', '手术':'operation', \n",
    "              '解剖部位':'dissection', '药物':'drug', \n",
    "              '影像检查':'imgexam', '实验室检验':'labexam'}"
   ]
  },
  {
   "cell_type": "code",
   "execution_count": null,
   "metadata": {},
   "outputs": [],
   "source": [
    "processed_data = {}\n",
    "textID = 0\n",
    "\n",
    "for data in raw_train_data:\n",
    "    data = raw_train_data[0]   \n",
    "    raw_text = data['originalText']\n",
    "    text = np.array(['' for i in range(len(raw_text))], dtype='object')\n",
    "    text_tag = np.array(['O' for i in range(len(raw_text))], dtype='object')\n",
    "    entities = data['entities']\n",
    "\n",
    "    \n",
    "    for entity in entities:\n",
    "        # Get the start and end pos of each entity\n",
    "        startpos = entity['start_pos']\n",
    "        endpos = entity['end_pos']\n",
    "        # Mark the label with the pos info from above\n",
    "        text_tag[startpos] = \"B\" + '_' + label_dict[entity['label_type']]\n",
    "        text_tag[startpos+1:endpos] = \"I\" + '_' + label_dict[entity['label_type']]\n",
    "\n",
    "    for i, word in enumerate(raw_text):\n",
    "        text[i] = word\n",
    "    \n",
    "    processed_data[textID] = [text, text_tag]\n",
    "    textID += 1"
   ]
  },
  {
   "cell_type": "code",
   "execution_count": null,
   "metadata": {},
   "outputs": [],
   "source": [
    "word_to_ix = {}\n",
    "for sentence, tags in processed_data.values():\n",
    "    for word in sentence:\n",
    "        if word not in word_to_ix:\n",
    "            word_to_ix[word] = len(word_to_ix)"
   ]
  },
  {
   "cell_type": "code",
   "execution_count": null,
   "metadata": {},
   "outputs": [],
   "source": [
    "tag_to_ix = {\"B_disease\":0, \"I_disease\":1, \"B_operation\":2, \"I_operation\":3, \n",
    "             \"B_dissection\":4, \"I_dissection\":5, \"B_drug\":6, \"I_drug\":7, \n",
    "             \"B_imgexam\":8, \"I_imgexam\":9, \"B_labexam\":10, \"I_labexam\":11, \n",
    "             'O':12, START_TAG:13, STOP_TAG:14}"
   ]
  },
  {
   "cell_type": "code",
   "execution_count": null,
   "metadata": {},
   "outputs": [],
   "source": [
    "model = BiLSTM_CRF(len(word_to_ix), tag_to_ix, EMBEDDING_DIM, HIDDEN_DIM)\n",
    "optimizer = optim.SGD(model.parameters(), lr=0.01, weight_decay=1e-4)"
   ]
  },
  {
   "cell_type": "code",
   "execution_count": null,
   "metadata": {},
   "outputs": [],
   "source": [
    "train_data = list(processed_data.values())\n",
    "\n",
    "with torch.no_grad():\n",
    "    precheck_sent = prepare_sequence(train_data[0][0], word_to_ix)\n",
    "    precheck_tags = torch.tensor([tag_to_ix[t] for t in train_data[0][1]], dtype=torch.long)\n",
    "    print(model(precheck_sent))"
   ]
  },
  {
   "cell_type": "code",
   "execution_count": null,
   "metadata": {},
   "outputs": [],
   "source": [
    "EPOCH = 30\n",
    "if torch.cuda.is_available():\n",
    "    model.cuda()\n",
    "    \n",
    "for epoch in range(EPOCH):\n",
    "    for sentence, tags in train_data:\n",
    "        model.zero_grad()\n",
    "\n",
    "        # Get our inputs ready for the network, that is,\n",
    "        # turn them into Tensors of word indices.\n",
    "        sentence_in = prepare_sequence(sentence, word_to_ix)\n",
    "        targets = torch.tensor([tag_to_ix[t] for t in tags], dtype=torch.long)\n",
    "        if torch.cuda.is_available():\n",
    "            sentence_in = sentence_in.cuda()\n",
    "            targets = targets.cuda()\n",
    "            \n",
    "        # Run our forward pass.\n",
    "        loss = model.neg_log_likelihood(sentence_in, targets)\n",
    "\n",
    "        # Compute the loss, gradients, and update the parameters by\n",
    "        # calling optimizer.step()\n",
    "        loss.backward()\n",
    "        optimizer.step()\n",
    "    if epoch % 5 == 0:\n",
    "        print(\"%d/%d epochs of training complete. Loss:%.6f\" % (epoch, EPOCH, loss))\n",
    "\n",
    "# Check predictions after training\n",
    "with torch.no_grad():\n",
    "    precheck_sent = prepare_sequence(train_data[0][0], word_to_ix)\n",
    "    print(model(precheck_sent))"
   ]
  }
 ],
 "metadata": {
  "kernelspec": {
   "display_name": "Python 3",
   "language": "python",
   "name": "python3"
  },
  "language_info": {
   "codemirror_mode": {
    "name": "ipython",
    "version": 3
   },
   "file_extension": ".py",
   "mimetype": "text/x-python",
   "name": "python",
   "nbconvert_exporter": "python",
   "pygments_lexer": "ipython3",
   "version": "3.6.8"
  }
 },
 "nbformat": 4,
 "nbformat_minor": 4
}
